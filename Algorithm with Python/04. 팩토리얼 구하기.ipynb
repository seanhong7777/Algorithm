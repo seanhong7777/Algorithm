{
 "cells": [
  {
   "cell_type": "markdown",
   "metadata": {},
   "source": [
    "1부터 n까지 연속한 정수의 곱을 구하는 알고리즘"
   ]
  },
  {
   "cell_type": "code",
   "execution_count": 6,
   "metadata": {},
   "outputs": [],
   "source": [
    "def num_multiple(n):\n",
    "    multiple = 1\n",
    "    for i in range(1, n+1):\n",
    "        multiple = multiple*i\n",
    "    return multiple"
   ]
  },
  {
   "cell_type": "code",
   "execution_count": 7,
   "metadata": {},
   "outputs": [
    {
     "data": {
      "text/plain": [
       "120"
      ]
     },
     "execution_count": 7,
     "metadata": {},
     "output_type": "execute_result"
    }
   ],
   "source": [
    "num_multiple(5)"
   ]
  },
  {
   "cell_type": "markdown",
   "metadata": {},
   "source": [
    "재귀호출 : 다시 돌아가 부르기\n",
    "- recursion : 어떤 함수 안에서 자기 자신을 부르는 것\n",
    "- 종료 조건 : 특정 조건이 되면 더는 자신을 호출하지 않고 멈추도록 설계\n",
    "- return 명령을 사용해 종료 조건의 결괏값부터 돌려줌"
   ]
  },
  {
   "cell_type": "code",
   "execution_count": 8,
   "metadata": {},
   "outputs": [],
   "source": [
    "def hello():\n",
    "    print(\"hello\")\n",
    "    hello()\n"
   ]
  },
  {
   "cell_type": "markdown",
   "metadata": {},
   "source": [
    "재귀호출 알고리즘\n",
    "- 1! = 1\n",
    "- 2! = 2 x 1 =2 x 1!\n",
    "- 3! = 3 x 2 x 1 = 3 x 2!\n",
    "- 4! = 4 x 3 x 2 x 1 = 4 x 3!\n",
    "\n",
    "- fact(4) : fact(3)을 호출\n",
    "- fact(3) : fact(2)을 호출\n",
    "- fact(2) : fact(1)을 호출\n",
    "- fact(1) : fact() 함수를 더 이상 호출하지 않고 1을 돌려줌\n",
    "- fact(2) : fact(1)에서 돌려받은 결괏값 1에 2를 곱해 2를 돌려줌\n",
    "- fact(3) : fact(2)에서 돌려받은 결괏값 2에 3을 곱해 6을 돌려줌\n",
    "- fact(4) : fact(3)에서 돌려받은 결괏값 6에 4를 곱해 24를 돌려줌\n",
    "\n",
    "#### 계산 복잡도 O(n)\n",
    "- for문 : n번\n",
    "- 재귀함수 : n-1번"
   ]
  },
  {
   "cell_type": "code",
   "execution_count": 47,
   "metadata": {},
   "outputs": [],
   "source": [
    "def fact(n):\n",
    "    if n <= 1:\n",
    "        return 1\n",
    "    return n * fact(n-1)"
   ]
  },
  {
   "cell_type": "code",
   "execution_count": 48,
   "metadata": {},
   "outputs": [
    {
     "data": {
      "text/plain": [
       "24"
      ]
     },
     "execution_count": 48,
     "metadata": {},
     "output_type": "execute_result"
    }
   ],
   "source": [
    "fact(4)"
   ]
  },
  {
   "cell_type": "code",
   "execution_count": 50,
   "metadata": {},
   "outputs": [
    {
     "ename": "SyntaxError",
     "evalue": "invalid syntax (<ipython-input-50-624551d42211>, line 2)",
     "output_type": "error",
     "traceback": [
      "\u001b[0;36m  File \u001b[0;32m\"<ipython-input-50-624551d42211>\"\u001b[0;36m, line \u001b[0;32m2\u001b[0m\n\u001b[0;31m    ***\u001b[0m\n\u001b[0m     ^\u001b[0m\n\u001b[0;31mSyntaxError\u001b[0m\u001b[0;31m:\u001b[0m invalid syntax\n"
     ]
    }
   ],
   "source": [
    "#### 재귀함수의 일반적인 형태\n",
    "***\n",
    "def func(입력 값):\n",
    "    if 입력 값이 충분히 작으면 : # 종료 조건\n",
    "        return 결괏값\n",
    "    ...\n",
    "    func(더 작은 입력 값)      # 더 작은 값으로 자기 자신을 호출\n",
    "    ...\n",
    "    return 결괏값\n",
    "***"
   ]
  },
  {
   "cell_type": "code",
   "execution_count": null,
   "metadata": {},
   "outputs": [],
   "source": []
  }
 ],
 "metadata": {
  "kernelspec": {
   "display_name": "Python 3",
   "language": "python",
   "name": "python3"
  },
  "language_info": {
   "codemirror_mode": {
    "name": "ipython",
    "version": 3
   },
   "file_extension": ".py",
   "mimetype": "text/x-python",
   "name": "python",
   "nbconvert_exporter": "python",
   "pygments_lexer": "ipython3",
   "version": "3.7.3"
  }
 },
 "nbformat": 4,
 "nbformat_minor": 2
}
