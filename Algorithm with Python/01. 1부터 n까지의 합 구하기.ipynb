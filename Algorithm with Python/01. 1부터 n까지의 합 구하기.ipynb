{
 "cells": [
  {
   "cell_type": "markdown",
   "metadata": {},
   "source": [
    "### 1. 알고리즘 풀이\n",
    "- 합을 기록할 변수 s를 만들고 0을 저장\n",
    "- 변수 i를 만들어 1부터 n까지의 숫자를 1씩 증가시키며 반복\n",
    "- [반복 블록] 기존의 s에 i를 더하여 얻은 값을 다시 s에 저장\n",
    "- 반복이 끝났을 때 s에 저장된 값이 결괏값"
   ]
  },
  {
   "cell_type": "code",
   "execution_count": 1,
   "metadata": {},
   "outputs": [],
   "source": [
    "def totalsum(n):\n",
    "    sum = 0\n",
    "    for i in range(n+1):\n",
    "        sum += i\n",
    "    return sum"
   ]
  },
  {
   "cell_type": "code",
   "execution_count": 2,
   "metadata": {},
   "outputs": [
    {
     "data": {
      "text/plain": [
       "15"
      ]
     },
     "execution_count": 2,
     "metadata": {},
     "output_type": "execute_result"
    }
   ],
   "source": [
    "totalsum(5)"
   ]
  },
  {
   "cell_type": "markdown",
   "metadata": {},
   "source": [
    "### 2. 수학공식 적용 풀이"
   ]
  },
  {
   "cell_type": "code",
   "execution_count": 6,
   "metadata": {},
   "outputs": [],
   "source": [
    "def totalsum2(n):\n",
    "    return n*(n+1)//2"
   ]
  },
  {
   "cell_type": "code",
   "execution_count": 7,
   "metadata": {},
   "outputs": [
    {
     "data": {
      "text/plain": [
       "15"
      ]
     },
     "execution_count": 7,
     "metadata": {},
     "output_type": "execute_result"
    }
   ],
   "source": [
    "totalsum2(5)"
   ]
  },
  {
   "cell_type": "markdown",
   "metadata": {},
   "source": [
    "### 입력 크기와 계산 횟수\n",
    "- 입력 크기 : n\n",
    "- 계산 횟수\n",
    "    - 1번 : 덧셈 n번\n",
    "    - 2번 : 총 3번(덧셈 1번, 곱셈 1번, 나눗셈 1번)\n",
    "  \n",
    "### 계산 복잡도(complexity)\n",
    "- 알고리즘이 문제를 풀기 위해 해야 하는 계산이 얼마나 복잡한지 나타낸 정도 \n",
    "- 계산 복잡도 표현 (대문자 O표기법, '빅오' 표기법)  \n",
    "    - 1번 : O(n) 필요한 계산 횟수가 입력 크기 n과 비례할 때\n",
    "    -> 입력 크기 n에 대해 사칙 연산을 n번 시행 (계산 횟수가 입력 크기에 '정비례')\n",
    "    - 2번 : O(1) 필요한 계산 횟수가 입력 크기 n과 무관할 때 \n",
    "    -> 입력 크기가 커져도 계산 시간이 더 늘어나지 않음"
   ]
  },
  {
   "cell_type": "markdown",
   "metadata": {},
   "source": [
    "### 3. 연습 문제"
   ]
  },
  {
   "cell_type": "code",
   "execution_count": 54,
   "metadata": {},
   "outputs": [],
   "source": [
    "def square_sum(n):\n",
    "    totalsum = 0\n",
    "    for i in range(n+1):\n",
    "        totalsum += (i**2)\n",
    "    return totalsum"
   ]
  },
  {
   "cell_type": "code",
   "execution_count": 55,
   "metadata": {},
   "outputs": [
    {
     "data": {
      "text/plain": [
       "385"
      ]
     },
     "execution_count": 55,
     "metadata": {},
     "output_type": "execute_result"
    }
   ],
   "source": [
    "square_sum(10)"
   ]
  },
  {
   "cell_type": "code",
   "execution_count": 57,
   "metadata": {},
   "outputs": [],
   "source": [
    "def square_sum2(n):\n",
    "    return n*(n+1)*(2*n+1)//6"
   ]
  },
  {
   "cell_type": "code",
   "execution_count": 58,
   "metadata": {},
   "outputs": [
    {
     "data": {
      "text/plain": [
       "385"
      ]
     },
     "execution_count": 58,
     "metadata": {},
     "output_type": "execute_result"
    }
   ],
   "source": [
    "square_sum2(10)"
   ]
  },
  {
   "cell_type": "code",
   "execution_count": null,
   "metadata": {},
   "outputs": [],
   "source": []
  }
 ],
 "metadata": {
  "kernelspec": {
   "display_name": "Python 3",
   "language": "python",
   "name": "python3"
  },
  "language_info": {
   "codemirror_mode": {
    "name": "ipython",
    "version": 3
   },
   "file_extension": ".py",
   "mimetype": "text/x-python",
   "name": "python",
   "nbconvert_exporter": "python",
   "pygments_lexer": "ipython3",
   "version": "3.7.3"
  }
 },
 "nbformat": 4,
 "nbformat_minor": 2
}
