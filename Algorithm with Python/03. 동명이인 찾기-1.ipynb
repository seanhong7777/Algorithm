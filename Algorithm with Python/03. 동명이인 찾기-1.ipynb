{
 "cells": [
  {
   "cell_type": "markdown",
   "metadata": {},
   "source": [
    "n명의 사람 이름 중에서 같은 이름을 찾아 집합으로 만들어 돌려주는 알고리즘\n",
    "- 비교할 이름을 뽑은 다음에 뽑은 이름보다 순서상 뒤에 있는 이름하고만 비교하면 됨\n",
    "- 리스트의 마지막 이름을 기준으로는 지교하지 않아도 됨 (자신의 뒤에는 비교할 이름이 없고, 앞과는 비교과 끝남)\n",
    "- 같은 이름을 찾으면 결과 집합에 그 이름을 추가"
   ]
  },
  {
   "cell_type": "code",
   "execution_count": 1,
   "metadata": {},
   "outputs": [],
   "source": [
    "name = [\"Tom\", \"Jerry\", \"Mike\", \"Tom\"]"
   ]
  },
  {
   "cell_type": "code",
   "execution_count": 54,
   "metadata": {},
   "outputs": [],
   "source": [
    "def set_name(a):\n",
    "    n = len(name)\n",
    "    same_name = set()\n",
    "\n",
    "    for i in range(0, n-1): # 뽑은 이름\n",
    "        for j in range(i+1, n): # 비교 대상 이름\n",
    "            if name[i] == name[j]:\n",
    "                same_name.add(name[i])\n",
    "    return same_name"
   ]
  },
  {
   "cell_type": "code",
   "execution_count": 55,
   "metadata": {},
   "outputs": [
    {
     "data": {
      "text/plain": [
       "{'Tom'}"
      ]
     },
     "execution_count": 55,
     "metadata": {},
     "output_type": "execute_result"
    }
   ],
   "source": [
    "set_name(name)"
   ]
  },
  {
   "cell_type": "markdown",
   "metadata": {},
   "source": [
    "계산복잡도 O(n^^2) : 0 + 1 + ... + n-3 + n-2 + n-1 = (1/2)*n^^2 - (1/2)*n\n",
    "- 0번 위치 이름 : n-1번 비교 (자기를 제외한 모든 이름과 비교)\n",
    "- 1번 위치 이름 : n-2번 비교\n",
    "- 2번 위치 이름 : n-3번 비교\n",
    "...\n",
    "- n-2번 위치 이름 : 1번 비교\n",
    "- n-1번 위치 이름 : 0번 비교"
   ]
  },
  {
   "cell_type": "code",
   "execution_count": 80,
   "metadata": {},
   "outputs": [],
   "source": [
    "def pair_name(a):\n",
    "    n = len(a)\n",
    "\n",
    "    for i in range(0, n-1): # 뽑은 이름\n",
    "        for j in range(i+1, n): # 비교 대상 이름\n",
    "            print(a[i]+'-'+a[j])\n"
   ]
  },
  {
   "cell_type": "code",
   "execution_count": 81,
   "metadata": {},
   "outputs": [
    {
     "name": "stdout",
     "output_type": "stream",
     "text": [
      "Tom-Jerry\n",
      "Tom-Mike\n",
      "Jerry-Mike\n"
     ]
    }
   ],
   "source": [
    "name_list = [\"Tom\", \"Jerry\", \"Mike\"]\n",
    "pair_name(name_list)"
   ]
  },
  {
   "cell_type": "code",
   "execution_count": null,
   "metadata": {},
   "outputs": [],
   "source": []
  }
 ],
 "metadata": {
  "kernelspec": {
   "display_name": "Python 3",
   "language": "python",
   "name": "python3"
  },
  "language_info": {
   "codemirror_mode": {
    "name": "ipython",
    "version": 3
   },
   "file_extension": ".py",
   "mimetype": "text/x-python",
   "name": "python",
   "nbconvert_exporter": "python",
   "pygments_lexer": "ipython3",
   "version": "3.7.3"
  }
 },
 "nbformat": 4,
 "nbformat_minor": 2
}
