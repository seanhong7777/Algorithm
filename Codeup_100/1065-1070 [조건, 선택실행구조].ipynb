{
 "cells": [
  {
   "cell_type": "markdown",
   "metadata": {},
   "source": [
    "#### 1065 정수 3개 입력받아 짝수만 출력하기"
   ]
  },
  {
   "cell_type": "code",
   "execution_count": 20,
   "metadata": {},
   "outputs": [
    {
     "name": "stdout",
     "output_type": "stream",
     "text": [
      "1 2 4\n",
      "2\n",
      "4\n"
     ]
    }
   ],
   "source": [
    "x = map(int, input().split())\n",
    "for a in x:\n",
    "    if a%2 == 0:\n",
    "        print(a)"
   ]
  },
  {
   "cell_type": "markdown",
   "metadata": {},
   "source": [
    "#### 1066 정수 3개 입력받아 짝/홀 출력하기"
   ]
  },
  {
   "cell_type": "code",
   "execution_count": 21,
   "metadata": {},
   "outputs": [
    {
     "name": "stdout",
     "output_type": "stream",
     "text": [
      "1 2 8\n",
      "odd\n",
      "even\n",
      "even\n"
     ]
    }
   ],
   "source": [
    "x = map(int, input().split())\n",
    "for a in x:\n",
    "    if a%2 == 0:\n",
    "        print('even')\n",
    "    else:\n",
    "        print('odd')"
   ]
  },
  {
   "cell_type": "markdown",
   "metadata": {},
   "source": [
    "#### 1067 정수 1개 입력받아 분석하기"
   ]
  },
  {
   "cell_type": "code",
   "execution_count": 27,
   "metadata": {},
   "outputs": [
    {
     "name": "stdout",
     "output_type": "stream",
     "text": [
      "-234566\n",
      "minus\n",
      "even\n"
     ]
    }
   ],
   "source": [
    "a = int(input())\n",
    "\n",
    "if a>0:\n",
    "    print('plus')\n",
    "else:\n",
    "    if a<0:\n",
    "        print('minus')\n",
    "        \n",
    "if a%2==0:\n",
    "    print('even')\n",
    "else:\n",
    "    if a%2==1:\n",
    "        print('odd')"
   ]
  },
  {
   "cell_type": "code",
   "execution_count": 28,
   "metadata": {},
   "outputs": [
    {
     "name": "stdout",
     "output_type": "stream",
     "text": [
      "-276362\n",
      "minus\n",
      "even\n"
     ]
    }
   ],
   "source": [
    "a = int(input())\n",
    "\n",
    "if a>0:\n",
    "    print('plus')\n",
    "else:\n",
    "    print('minus')\n",
    "if a%2==0:\n",
    "    print('even')\n",
    "else:\n",
    "    print('odd')"
   ]
  },
  {
   "cell_type": "markdown",
   "metadata": {},
   "source": [
    "#### 1068 정수 1개 입력받아 평가 출력하기"
   ]
  },
  {
   "cell_type": "code",
   "execution_count": 34,
   "metadata": {},
   "outputs": [
    {
     "name": "stdout",
     "output_type": "stream",
     "text": [
      "75\n",
      "B\n"
     ]
    }
   ],
   "source": [
    "a = int(input())\n",
    "if a>=90:\n",
    "    print('A')\n",
    "elif a>=70:\n",
    "    print('B')\n",
    "elif a>=40:\n",
    "    print('C')\n",
    "else:\n",
    "    print('D')"
   ]
  },
  {
   "cell_type": "markdown",
   "metadata": {},
   "source": [
    "#### 1069 평가 입력받아 다르게 출력하기"
   ]
  },
  {
   "cell_type": "code",
   "execution_count": 38,
   "metadata": {},
   "outputs": [
    {
     "name": "stdout",
     "output_type": "stream",
     "text": [
      "C\n",
      "run!\n"
     ]
    }
   ],
   "source": [
    "a = input()\n",
    "if a=='A':\n",
    "    print('best!!!')\n",
    "elif a=='B':\n",
    "    print('good!!')\n",
    "elif a=='C':\n",
    "    print('run!')\n",
    "elif a=='D':\n",
    "    print('slowly~')\n",
    "else:\n",
    "    print('what?')"
   ]
  },
  {
   "cell_type": "markdown",
   "metadata": {},
   "source": [
    "#### 1070 월 입력받아 계절 출력하기"
   ]
  },
  {
   "cell_type": "code",
   "execution_count": 47,
   "metadata": {},
   "outputs": [
    {
     "name": "stdout",
     "output_type": "stream",
     "text": [
      "3\n",
      "spring\n"
     ]
    }
   ],
   "source": [
    "a = int(input())\n",
    "if a in(12, 1, 2):\n",
    "    print('winter')\n",
    "elif a in(3, 4, 5):\n",
    "    print('spring')\n",
    "elif a in(6, 7, 8):\n",
    "    print('summer')\n",
    "elif a in(9, 10, 11):\n",
    "    print('fall')"
   ]
  }
 ],
 "metadata": {
  "kernelspec": {
   "display_name": "Python 3",
   "language": "python",
   "name": "python3"
  },
  "language_info": {
   "codemirror_mode": {
    "name": "ipython",
    "version": 3
   },
   "file_extension": ".py",
   "mimetype": "text/x-python",
   "name": "python",
   "nbconvert_exporter": "python",
   "pygments_lexer": "ipython3",
   "version": "3.7.3"
  }
 },
 "nbformat": 4,
 "nbformat_minor": 2
}
