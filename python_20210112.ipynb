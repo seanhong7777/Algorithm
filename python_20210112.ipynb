{
  "nbformat": 4,
  "nbformat_minor": 0,
  "metadata": {
    "colab": {
      "name": "python_20210112.ipynb",
      "private_outputs": true,
      "provenance": [],
      "authorship_tag": "ABX9TyOxLX3SiTVHcVS28fdrE+Ox",
      "include_colab_link": true
    },
    "kernelspec": {
      "name": "python3",
      "display_name": "Python 3"
    }
  },
  "cells": [
    {
      "cell_type": "markdown",
      "metadata": {
        "id": "view-in-github",
        "colab_type": "text"
      },
      "source": [
        "<a href=\"https://colab.research.google.com/github/seanhong7777/Algorithm/blob/master/python_20210112.ipynb\" target=\"_parent\"><img src=\"https://colab.research.google.com/assets/colab-badge.svg\" alt=\"Open In Colab\"/></a>"
      ]
    },
    {
      "cell_type": "markdown",
      "metadata": {
        "id": "gFXJCbjlGfh3"
      },
      "source": [
        "텍스트 셀 "
      ]
    },
    {
      "cell_type": "code",
      "metadata": {
        "id": "uXFPD3pBEnFN"
      },
      "source": [
        "# 코드 셀"
      ],
      "execution_count": null,
      "outputs": []
    },
    {
      "cell_type": "markdown",
      "metadata": {
        "id": "f95KDPSGIFUu"
      },
      "source": [
        "텍스트 셀"
      ]
    }
  ]
}